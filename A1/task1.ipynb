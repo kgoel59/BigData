import pandas as pd

# Load the csv files
# These csv files represent the different product categories from the NewChic dataset
data_frame_accessories = pd.read_csv(r'C:\Users\Rishab Manokaran\Downloads\A1_2024_Released\A1_2024_Released\accessories.csv')
data_frame_bags = pd.read_csv(r'C:\Users\Rishab Manokaran\Downloads\A1_2024_Released\A1_2024_Released\bags.csv')
data_frame_beauty = pd.read_csv(r'C:\Users\Rishab Manokaran\Downloads\A1_2024_Released\A1_2024_Released\beauty.csv')
data_frame_house = pd.read_csv(r'C:\Users\Rishab Manokaran\Downloads\A1_2024_Released\A1_2024_Released\house.csv')
data_frame_jewelry = pd.read_csv(r'C:\Users\Rishab Manokaran\Downloads\A1_2024_Released\A1_2024_Released\jewelry.csv')
data_frame_kids = pd.read_csv(r'C:\Users\Rishab Manokaran\Downloads\A1_2024_Released\A1_2024_Released\kids.csv')
data_frame_men = pd.read_csv(r'C:\Users\Rishab Manokaran\Downloads\A1_2024_Released\A1_2024_Released\men.csv')
data_frame_shoes = pd.read_csv(r'C:\Users\Rishab Manokaran\Downloads\A1_2024_Released\A1_2024_Released\shoes.csv')
data_frame_women = pd.read_csv(r'C:\Users\Rishab Manokaran\Downloads\A1_2024_Released\A1_2024_Released\women.csv')

# We combine all the datasets/dataframe in to a single dataset/dataframe
data_frame_combined = pd.concat([data_frame_accessories, data_frame_bags, data_frame_beauty, data_frame_house, data_frame_jewelry, data_frame_kids, data_frame_men, data_frame_shoes, data_frame_women], ignore_index=True)

# Selection of only the columns that are relevant for the purpose of analysis because they contribute to understanding product performance.
#This in turn also means that certain columns that are irrelevant to find the top-7 categories and top -10 products are being dropped. 
chosen_columns = ['category', 'name', 'current_price', 'likes_count', 'discount', 'is_new']
data_frame_preprocessed = data_frame_combined[chosen_columns]

# Missing-data handling
# Some products might not have any likes or discount or the value might be missing hence we fill the missing values in the columns likes_count and discount with 0
# we fill the values missing in the column current_price with the median value, which helps to mitigate the impact of outliers
data_frame_preprocessed['likes_count'].fillna(0, inplace=True)
data_frame_preprocessed['discount'].fillna(0, inplace=True)
data_frame_preprocessed['current_price'].fillna(data_frame_preprocessed['current_price'].median(), inplace=True)

# The dataset is filtered based on the column likes_count. This focuses on the products with significant number of likes.
# We have made the threshold value to be 50.
data_frame_preprocessed = data_frame_preprocessed[data_frame_preprocessed['likes_count'] > 50]

# To find the categories with highest average pricing we aggregate the data and find the average price per category.
premium_categories = data_frame_preprocessed.groupby('category')['current_price'].mean().sort_values(ascending=False)

# We selected these top 7 best categories because of the premium pricing strategy of these categories which is basically based on average price.
best_7_categories = premium_categories.head(7).index.tolist()

# The dataset is filtered to include products only from the top 7 categories
data_frame_filtered = data_frame_preprocessed[data_frame_preprocessed['category'].isin(best_7_categories)]

# Findind the top 10 best products from the top 7 categories which are ranked based on likes_count, current_price, discount and is_new column
best_10_products = data_frame_filtered.sort_values(
    by=['likes_count', 'current_price', 'discount', 'is_new'], 
    ascending=[False, False, False, False]
).head(10)

# Display the best 10 products from the selected best 7 categories
print("Top 7 Categories (based on average price):", best_7_categories)
print("Top 10 Products in the Top 7 Categories:\n", best_10_products)

# Matched Columns:
#'category': Essential for classifying and sorting products by category.
#'name': Serves to identify individual products.
#'current_price': Provides a glimpse into pricing tactics.
#'likes_count': Shows customer interest and product popularity.
#'discount': Indicates the attractiveness of the pricing.
#'is_new': Highlights the novelty of the product, which can impact customer appeal.

# Removed Columns:
#Columns not included in the selected list were omitted as they didn't directly aid in identifying top products or evaluating category performance.
#Columns like URLs, images, etc were excluded since they don't offer valuable insights for this analysis.