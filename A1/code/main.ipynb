{
 "cells": [
  {
   "cell_type": "code",
   "execution_count": 10,
   "metadata": {},
   "outputs": [],
   "source": [
    "import os\n",
    "import pandas as pd\n",
    "import seaborn as sns\n",
    "import matplotlib.pyplot as plt\n",
    "import scipy.stats as stats\n"
   ]
  },
  {
   "cell_type": "markdown",
   "metadata": {},
   "source": [
    "### Task 1 - Problem Analysis and Data Preprocess"
   ]
  },
  {
   "cell_type": "code",
   "execution_count": 2,
   "metadata": {},
   "outputs": [],
   "source": [
    "base_path = r'.'\n",
    "files = ['accessories.csv', 'bags.csv', 'beauty.csv', 'house.csv', \n",
    "         'jewelry.csv', 'kids.csv', 'men.csv', 'shoes.csv', 'women.csv']\n",
    "\n",
    "data_frames = {file.split('.')[0]: pd.read_csv(os.path.join(base_path, file)) for file in files}\n",
    "\n",
    "# Access the DataFrames\n",
    "data_frame_accessories = data_frames['accessories']\n",
    "data_frame_bags = data_frames['bags']\n",
    "data_frame_beauty = data_frames['beauty']\n",
    "data_frame_house = data_frames['house']\n",
    "data_frame_jewelry = data_frames['jewelry']\n",
    "data_frame_kids = data_frames['kids']\n",
    "data_frame_men = data_frames['men']\n",
    "data_frame_shoes = data_frames['shoes']\n",
    "data_frame_women = data_frames['women']"
   ]
  },
  {
   "cell_type": "code",
   "execution_count": 5,
   "metadata": {},
   "outputs": [
    {
     "name": "stdout",
     "output_type": "stream",
     "text": [
      "<class 'pandas.core.frame.DataFrame'>\n",
      "RangeIndex: 74999 entries, 0 to 74998\n",
      "Data columns (total 22 columns):\n",
      " #   Column                 Non-Null Count  Dtype  \n",
      "---  ------                 --------------  -----  \n",
      " 0   category               74999 non-null  object \n",
      " 1   subcategory            74999 non-null  object \n",
      " 2   name                   74999 non-null  object \n",
      " 3   current_price          74999 non-null  float64\n",
      " 4   raw_price              74999 non-null  float64\n",
      " 5   currency               74999 non-null  object \n",
      " 6   discount               74999 non-null  int64  \n",
      " 7   likes_count            74999 non-null  int64  \n",
      " 8   is_new                 74999 non-null  bool   \n",
      " 9   brand                  14161 non-null  object \n",
      " 10  brand_url              10340 non-null  object \n",
      " 11  codCountry             65889 non-null  object \n",
      " 12  variation_0_color      63215 non-null  object \n",
      " 13  variation_1_color      52652 non-null  object \n",
      " 14  variation_0_thumbnail  63215 non-null  object \n",
      " 15  variation_0_image      63215 non-null  object \n",
      " 16  variation_1_thumbnail  52652 non-null  object \n",
      " 17  variation_1_image      52652 non-null  object \n",
      " 18  image_url              74998 non-null  object \n",
      " 19  url                    74999 non-null  object \n",
      " 20  id                     74999 non-null  int64  \n",
      " 21  model                  74999 non-null  object \n",
      "dtypes: bool(1), float64(2), int64(3), object(16)\n",
      "memory usage: 12.1+ MB\n"
     ]
    }
   ],
   "source": [
    "df = pd.concat(data_frames.values(), ignore_index=True)\n",
    "df.info()"
   ]
  },
  {
   "cell_type": "markdown",
   "metadata": {},
   "source": [
    "####  Pre-process Dataframe"
   ]
  },
  {
   "cell_type": "code",
   "execution_count": 6,
   "metadata": {},
   "outputs": [],
   "source": [
    "chosen_columns = {'category', 'name', 'current_price', 'raw_price', 'likes_count', 'discount', 'is_new'}\n",
    "df = df.loc[:, df.columns.intersection(chosen_columns)]"
   ]
  },
  {
   "cell_type": "code",
   "execution_count": 7,
   "metadata": {},
   "outputs": [],
   "source": [
    "# Define a dictionary with the columns as keys and their fill values as values\n",
    "fill_values = {\n",
    "    'likes_count': 0,\n",
    "    'discount': 0,\n",
    "    'current_price': df['current_price'].median()\n",
    "}\n",
    "\n",
    "# Use a loop to fill missing values for each specified column without using inplace\n",
    "for column, value in fill_values.items():\n",
    "    df[column] = df[column].fillna(value)"
   ]
  },
  {
   "cell_type": "code",
   "execution_count": 8,
   "metadata": {},
   "outputs": [],
   "source": [
    "df = df[df['likes_count'] > 50]"
   ]
  },
  {
   "cell_type": "markdown",
   "metadata": {},
   "source": [
    "#### Hypothesis 1: Price and Likes Count\n",
    "\n",
    "**Question**: Is there a significant correlation between the `current_price` and the `likes_count` of products?\n",
    "\n",
    "- **Null Hypothesis (H0)**: There is no significant correlation between `current_price` and `likes_count`. (Correlation coefficient = 0)\n",
    "- **Alternative Hypothesis (HA or H1)**: There is a significant correlation between `current_price` and `likes_count`. (Correlation coefficient ≠ 0)"
   ]
  },
  {
   "cell_type": "code",
   "execution_count": 9,
   "metadata": {},
   "outputs": [
    {
     "name": "stdout",
     "output_type": "stream",
     "text": [
      "Pearson Correlation Coefficient: 0.035926964328265344\n"
     ]
    }
   ],
   "source": [
    "# Calculate Pearson correlation coefficient\n",
    "correlation = df['current_price'].corr(df['likes_count'])\n",
    "print(\"Pearson Correlation Coefficient:\", correlation)"
   ]
  },
  {
   "cell_type": "code",
   "execution_count": 13,
   "metadata": {},
   "outputs": [
    {
     "name": "stdout",
     "output_type": "stream",
     "text": [
      "Pearson Correlation Coefficient: 0.035926964328265386\n",
      "P-value: 2.564527505355469e-14\n",
      "Reject the null hypothesis: There is a significant correlation between current_price and likes_count.\n"
     ]
    }
   ],
   "source": [
    "import scipy.stats as stats\n",
    "\n",
    "# Perform Pearson correlation test\n",
    "correlation, p_value = stats.pearsonr(df['current_price'], df['likes_count'])\n",
    "print(\"Pearson Correlation Coefficient:\", correlation)\n",
    "print(\"P-value:\", p_value)\n",
    "\n",
    "\n",
    "alpha = 0.05\n",
    "\n",
    "# Decision based on p-value\n",
    "if p_value < alpha:\n",
    "    print(\"Reject the null hypothesis: There is a significant correlation between current_price and likes_count.\")\n",
    "else:\n",
    "    print(\"Fail to reject the null hypothesis: There is no significant correlation between current_price and likes_count.\")"
   ]
  },
  {
   "cell_type": "code",
   "execution_count": 15,
   "metadata": {},
   "outputs": [
    {
     "data": {
      "image/png": "[encoded data removed]",
      "text/plain": [
       "<Figure size 1000x600 with 1 Axes>"
      ]
     },
     "metadata": {},
     "output_type": "display_data"
    }
   ],
   "source": [
    "# Plotting with Seaborn\n",
    "plt.figure(figsize=(10, 6))\n",
    "\n",
    "# Scatter plot with regression line\n",
    "sns.regplot(x='current_price', y='likes_count', data=df, scatter_kws={'s':100}, line_kws={'color':'red'})\n",
    "plt.title('Scatter Plot of Current Price vs Likes Count')\n",
    "plt.xlabel('Current Price')\n",
    "plt.ylabel('Likes Count')\n",
    "plt.grid(True)\n",
    "plt.show()"
   ]
  },
  {
   "cell_type": "markdown",
   "metadata": {},
   "source": [
    "#### Hypothesis 2: Discount and Likes Count\n",
    "\n",
    "**Question**: Does the `discount` offered on a product affect the `likes_count`?\n",
    "\n",
    "- **Null Hypothesis (H0)**: There is no significant correlation between `discount` and `likes_count`. (Correlation coefficient = 0)\n",
    "- **Alternative Hypothesis (HA or H1)**: There is a significant correlation between `discount` and `likes_count`. (Correlation coefficient ≠ 0)"
   ]
  },
  {
   "cell_type": "code",
   "execution_count": null,
   "metadata": {},
   "outputs": [],
   "source": [
    "## TODO"
   ]
  },
  {
   "cell_type": "markdown",
   "metadata": {},
   "source": [
    "#### Hypothesis 3: Comparison of Likes Count Across Categories\n",
    "\n",
    "**Question**: Is the average `likes_count` different across product categories?\n",
    "\n",
    "- **Null Hypothesis (H0)**: The average `likes_count` is the same across all product categories.\n",
    "- **Alternative Hypothesis (HA or H1)**: The average `likes_count` differs across at least one product category."
   ]
  },
  {
   "cell_type": "code",
   "execution_count": null,
   "metadata": {},
   "outputs": [],
   "source": [
    "## TODO"
   ]
  },
  {
   "cell_type": "markdown",
   "metadata": {},
   "source": [
    "\n",
    "#### Hypothesis 4: Price Influence on Discount\n",
    "\n",
    "**Question**: Does the `current_price` of a product influence the `discount` applied?\n",
    "\n",
    "- **Null Hypothesis (H0)**: There is no significant correlation between `current_price` and `discount`. (Correlation coefficient = 0)\n",
    "- **Alternative Hypothesis (HA or H1)**: There is a significant correlation between `current_price` and `discount`. (Correlation coefficient ≠ 0)"
   ]
  },
  {
   "cell_type": "code",
   "execution_count": null,
   "metadata": {},
   "outputs": [],
   "source": [
    "## TODO"
   ]
  },
  {
   "cell_type": "markdown",
   "metadata": {},
   "source": [
    "<!-- #### Hypothesis 5: Comparing Mean Likes Count Across Categories\n",
    "\n",
    "\n",
    "Null Hypothesis (H0): All group means are equal (no significant difference between groups).\n",
    "Alternative Hypothesis (HA): At least one group mean is different from the others. -->"
   ]
  },
  {
   "cell_type": "markdown",
   "metadata": {},
   "source": [
    "#### Premium Categories and Best 7 Categories\n"
   ]
  },
  {
   "cell_type": "code",
   "execution_count": 18,
   "metadata": {},
   "outputs": [
    {
     "name": "stdout",
     "output_type": "stream",
     "text": [
      "Top 7 Categories (based on average price): ['shoes', 'men', 'bags', 'women', 'kids', 'beauty', 'house']\n"
     ]
    }
   ],
   "source": [
    "\n",
    "# Calculate average price per category and sort in descending order\n",
    "def get_top_categories_by_price(df, top_n=7):\n",
    "    avg_price_per_category = df.groupby('category')['current_price'].mean().sort_values(ascending=False)\n",
    "    top_categories = avg_price_per_category.head(top_n).index.tolist()\n",
    "    return top_categories\n",
    "\n",
    "# Filter dataset to include only the top categories\n",
    "def filter_top_categories(df, top_categories):\n",
    "    return df[df['category'].isin(top_categories)]\n",
    "\n",
    "# Find the top N products based on multiple criteria\n",
    "def get_top_products(df, top_n=10):\n",
    "    return df.sort_values(\n",
    "        by=['likes_count', 'current_price', 'discount', 'is_new'], \n",
    "        ascending=[False, False, False, False]\n",
    "    ).head(top_n)\n",
    "\n",
    "\n",
    "    # Get top 7 categories based on average current price\n",
    "top_categories = get_top_categories_by_price(df, top_n=7)\n",
    "    \n",
    "# Filter the dataset to include only products from the top 7 categories\n",
    "filtered_df = filter_top_categories(df, top_categories)\n",
    "    \n",
    "# Find the top 10 products in these categories\n",
    "top_products = get_top_products(filtered_df, top_n=10)\n",
    "    \n",
    "# Output results\n",
    "print(\"Top 7 Categories (based on average price):\", top_categories)"
   ]
  },
  {
   "cell_type": "code",
   "execution_count": 19,
   "metadata": {},
   "outputs": [
    {
     "name": "stdout",
     "output_type": "stream",
     "text": [
      "Top 10 Products in the Top 7 Categories:\n",
      "       category                                               name  \\\n",
      "55676    shoes  Chaussures Plats Décontractées En Suède Mocass...   \n",
      "70482    women               Blouse Large Couleur Pure pour Femme   \n",
      "70457    women                   Robe Longue avec Boutons Chinois   \n",
      "63939    women  Gracila Femme Maxi Robe Irrégulier Vêtement Vi...   \n",
      "56378    shoes  Chaussures De Grande Taille Semelle Souple À E...   \n",
      "60200    women  Soutien-gorge Sexy à Décollecté Plongeant sans...   \n",
      "50188    shoes               Bottines Plates Doublées de Fourrure   \n",
      "63442    women  Soutien-gorge Sexy Antichoc Sans Armature Ling...   \n",
      "54981    shoes  SOCOFY Sandales Confortables Plates Avec Bride...   \n",
      "74381    women        Manteau imprimé floral à feuilles à capuche   \n",
      "\n",
      "       current_price  raw_price  discount  likes_count  is_new  \n",
      "55676          14.99      54.95        73        21547   False  \n",
      "70482          19.99      56.99        65        21403   False  \n",
      "70457          27.99      59.99        53        17684   False  \n",
      "63939          29.99      60.99        51        17414   False  \n",
      "56378          30.08      54.95        45        15203   False  \n",
      "60200          13.99      26.89        48        14252   False  \n",
      "50188           9.99      42.99        77        13615   False  \n",
      "63442          12.99      23.89        46        12786   False  \n",
      "54981          21.07      49.99        58        12591   False  \n",
      "74381          38.84      79.99        51        12482   False  \n"
     ]
    }
   ],
   "source": [
    "print(\"Top 10 Products in the Top 7 Categories:\\n\", top_products)"
   ]
  },
  {
   "cell_type": "markdown",
   "metadata": {},
   "source": [
    "### Task 2 - Clustering"
   ]
  },
  {
   "cell_type": "code",
   "execution_count": null,
   "metadata": {},
   "outputs": [],
   "source": []
  },
  {
   "cell_type": "markdown",
   "metadata": {},
   "source": [
    "### Task 3: Classification "
   ]
  },
  {
   "cell_type": "code",
   "execution_count": null,
   "metadata": {},
   "outputs": [],
   "source": []
  }
 ],
 "metadata": {
  "kernelspec": {
   "display_name": "bigdata",
   "language": "python",
   "name": "python3"
  },
  "language_info": {
   "codemirror_mode": {
    "name": "ipython",
    "version": 3
   },
   "file_extension": ".py",
   "mimetype": "text/x-python",
   "name": "python",
   "nbconvert_exporter": "python",
   "pygments_lexer": "ipython3",
   "version": "3.12.4"
  }
 },
 "nbformat": 4,
 "nbformat_minor": 2
}
